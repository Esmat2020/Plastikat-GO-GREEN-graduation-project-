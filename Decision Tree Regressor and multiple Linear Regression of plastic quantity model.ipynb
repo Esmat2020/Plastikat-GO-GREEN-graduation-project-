{
 "cells": [
  {
   "cell_type": "markdown",
   "id": "47c8c96f",
   "metadata": {},
   "source": [
    "# import libraries"
   ]
  },
  {
   "cell_type": "code",
   "execution_count": 1,
   "id": "1192ff2e",
   "metadata": {},
   "outputs": [],
   "source": [
    "import pandas as pd\n",
    "import numpy as np"
   ]
  },
  {
   "cell_type": "markdown",
   "id": "5687a8d3",
   "metadata": {},
   "source": [
    "# import dataset"
   ]
  },
  {
   "cell_type": "code",
   "execution_count": 18,
   "id": "569c82f2",
   "metadata": {},
   "outputs": [
    {
     "data": {
      "text/html": [
       "<div>\n",
       "<style scoped>\n",
       "    .dataframe tbody tr th:only-of-type {\n",
       "        vertical-align: middle;\n",
       "    }\n",
       "\n",
       "    .dataframe tbody tr th {\n",
       "        vertical-align: top;\n",
       "    }\n",
       "\n",
       "    .dataframe thead th {\n",
       "        text-align: right;\n",
       "    }\n",
       "</style>\n",
       "<table border=\"1\" class=\"dataframe\">\n",
       "  <thead>\n",
       "    <tr style=\"text-align: right;\">\n",
       "      <th></th>\n",
       "      <th>status</th>\n",
       "      <th>number_of_delegates</th>\n",
       "      <th>number_of_offers</th>\n",
       "      <th>number_of_users</th>\n",
       "      <th>company_rateing</th>\n",
       "      <th>years_of_experince</th>\n",
       "      <th>plastic_quantity</th>\n",
       "    </tr>\n",
       "  </thead>\n",
       "  <tbody>\n",
       "    <tr>\n",
       "      <th>0</th>\n",
       "      <td>IN_APPROVAL</td>\n",
       "      <td>18</td>\n",
       "      <td>0</td>\n",
       "      <td>90</td>\n",
       "      <td>0</td>\n",
       "      <td>0</td>\n",
       "      <td>0</td>\n",
       "    </tr>\n",
       "    <tr>\n",
       "      <th>1</th>\n",
       "      <td>SUSPENDED</td>\n",
       "      <td>11</td>\n",
       "      <td>17</td>\n",
       "      <td>55</td>\n",
       "      <td>1</td>\n",
       "      <td>6</td>\n",
       "      <td>113</td>\n",
       "    </tr>\n",
       "    <tr>\n",
       "      <th>2</th>\n",
       "      <td>APPROVED</td>\n",
       "      <td>1</td>\n",
       "      <td>25</td>\n",
       "      <td>5</td>\n",
       "      <td>5</td>\n",
       "      <td>10</td>\n",
       "      <td>86</td>\n",
       "    </tr>\n",
       "    <tr>\n",
       "      <th>3</th>\n",
       "      <td>SUSPENDED</td>\n",
       "      <td>7</td>\n",
       "      <td>43</td>\n",
       "      <td>35</td>\n",
       "      <td>1</td>\n",
       "      <td>4</td>\n",
       "      <td>275</td>\n",
       "    </tr>\n",
       "    <tr>\n",
       "      <th>4</th>\n",
       "      <td>APPROVED</td>\n",
       "      <td>9</td>\n",
       "      <td>17</td>\n",
       "      <td>45</td>\n",
       "      <td>4</td>\n",
       "      <td>7</td>\n",
       "      <td>99</td>\n",
       "    </tr>\n",
       "  </tbody>\n",
       "</table>\n",
       "</div>"
      ],
      "text/plain": [
       "        status  number_of_delegates  number_of_offers  number_of_users  \\\n",
       "0  IN_APPROVAL                   18                 0               90   \n",
       "1    SUSPENDED                   11                17               55   \n",
       "2     APPROVED                    1                25                5   \n",
       "3    SUSPENDED                    7                43               35   \n",
       "4     APPROVED                    9                17               45   \n",
       "\n",
       "   company_rateing  years_of_experince  plastic_quantity  \n",
       "0                0                   0                 0  \n",
       "1                1                   6               113  \n",
       "2                5                  10                86  \n",
       "3                1                   4               275  \n",
       "4                4                   7                99  "
      ]
     },
     "execution_count": 18,
     "metadata": {},
     "output_type": "execute_result"
    }
   ],
   "source": [
    "data_df = pd.read_csv(\"H:\\Level 4 Information Systems\\Plastikat\\Plastikat Data\\companiesPlastic-data-ML.csv\")\n",
    "data_df.head()"
   ]
  },
  {
   "cell_type": "markdown",
   "id": "8b1d1b63",
   "metadata": {},
   "source": [
    "# Define x and y"
   ]
  },
  {
   "cell_type": "code",
   "execution_count": 3,
   "id": "38a1f174",
   "metadata": {},
   "outputs": [],
   "source": [
    "x = data_df.drop(['status','plastic_quantity'], axis=1).values\n",
    "y = data_df['plastic_quantity'].values "
   ]
  },
  {
   "cell_type": "markdown",
   "id": "bfd01d8b",
   "metadata": {},
   "source": [
    "# split the data into teaining and testing data"
   ]
  },
  {
   "cell_type": "code",
   "execution_count": 4,
   "id": "bd87efc7",
   "metadata": {},
   "outputs": [],
   "source": [
    "from sklearn.model_selection import train_test_split\n",
    "x_train,x_test,y_train,y_test = train_test_split(x,y,test_size=0.25,random_state=0)"
   ]
  },
  {
   "cell_type": "markdown",
   "id": "3de1c5f2",
   "metadata": {},
   "source": [
    "# train the model on the training data"
   ]
  },
  {
   "cell_type": "code",
   "execution_count": 5,
   "id": "07bdee15",
   "metadata": {},
   "outputs": [
    {
     "data": {
      "text/plain": [
       "LinearRegression()"
      ]
     },
     "execution_count": 5,
     "metadata": {},
     "output_type": "execute_result"
    }
   ],
   "source": [
    "from sklearn.linear_model import LinearRegression\n",
    "ml=LinearRegression()\n",
    "ml.fit(x_train,y_train)"
   ]
  },
  {
   "cell_type": "code",
   "execution_count": 6,
   "id": "0ecfa7de",
   "metadata": {},
   "outputs": [
    {
     "data": {
      "text/plain": [
       "DecisionTreeRegressor(max_depth=4, min_samples_leaf=0.1, random_state=3)"
      ]
     },
     "execution_count": 6,
     "metadata": {},
     "output_type": "execute_result"
    }
   ],
   "source": [
    "from sklearn.tree import DecisionTreeRegressor\n",
    "from sklearn.metrics import mean_squared_error as MSE\n",
    "dt = DecisionTreeRegressor(max_depth=4,min_samples_leaf=0.1,random_state=3)\n",
    "dt.fit(x_train,y_train)"
   ]
  },
  {
   "cell_type": "markdown",
   "id": "863c2fe5",
   "metadata": {},
   "source": [
    "# predict the test result"
   ]
  },
  {
   "cell_type": "code",
   "execution_count": 7,
   "id": "afe300a5",
   "metadata": {
    "scrolled": true
   },
   "outputs": [
    {
     "name": "stdout",
     "output_type": "stream",
     "text": [
      "[110.03333333   2.48888889 258.66666667 110.03333333 157.89795918\n",
      "  69.32653061   7.7        258.66666667  69.32653061   3.8125\n",
      "   7.7        157.89795918 258.66666667 157.89795918   7.7\n",
      "  69.32653061 110.03333333   3.8125       3.8125       2.48888889\n",
      "   2.48888889   7.7          7.7         97.05714286   7.7\n",
      "   3.8125      69.32653061   2.48888889   2.48888889   2.48888889\n",
      "   2.48888889 110.03333333 110.03333333  97.05714286   7.7\n",
      " 157.89795918   2.48888889 157.89795918 258.66666667 258.66666667\n",
      " 110.03333333   7.7          2.48888889  97.05714286 157.89795918\n",
      " 110.03333333 157.89795918   3.8125       2.48888889   3.8125\n",
      "   2.48888889   3.8125     157.89795918   3.8125      97.05714286\n",
      "  69.32653061  69.32653061 258.66666667   2.48888889 157.89795918\n",
      "   3.8125       3.8125      97.05714286   7.7         97.05714286\n",
      "   7.7        110.03333333 157.89795918 157.89795918   2.48888889\n",
      " 157.89795918   7.7        157.89795918 110.03333333 110.03333333\n",
      " 110.03333333 157.89795918   3.8125       3.8125     157.89795918\n",
      " 110.03333333   2.48888889  69.32653061   2.48888889  69.32653061\n",
      " 157.89795918  69.32653061 110.03333333  97.05714286 157.89795918\n",
      " 157.89795918  69.32653061 157.89795918  69.32653061   7.7\n",
      "  97.05714286  69.32653061   3.8125       3.8125      69.32653061]\n"
     ]
    }
   ],
   "source": [
    "y_pred = ml.predict(x_test)\n",
    "ml.predict([[11,17,55,1,6]])\n",
    "\n",
    "y_pred_2 = dt.predict(x_test)\n",
    "mse_dt = MSE(y_test,y_pred)\n",
    "rmse_dt = mse_dt**(1/2)\n",
    "print(y_pred_2)"
   ]
  },
  {
   "cell_type": "markdown",
   "id": "d0cc9232",
   "metadata": {},
   "source": [
    "# Evaluate the model"
   ]
  },
  {
   "cell_type": "code",
   "execution_count": 8,
   "id": "872a3fa1",
   "metadata": {},
   "outputs": [
    {
     "data": {
      "text/plain": [
       "0.9533303352626061"
      ]
     },
     "execution_count": 8,
     "metadata": {},
     "output_type": "execute_result"
    }
   ],
   "source": [
    "from sklearn.metrics import r2_score\n",
    "r2_score(y_test,y_pred)"
   ]
  },
  {
   "cell_type": "code",
   "execution_count": 9,
   "id": "564d82bd",
   "metadata": {},
   "outputs": [
    {
     "data": {
      "text/plain": [
       "0.8967251807385168"
      ]
     },
     "execution_count": 9,
     "metadata": {},
     "output_type": "execute_result"
    }
   ],
   "source": [
    "r2_score(y_test,y_pred_2)"
   ]
  },
  {
   "cell_type": "markdown",
   "id": "e624cd94",
   "metadata": {},
   "source": [
    "# plot the results"
   ]
  },
  {
   "cell_type": "code",
   "execution_count": 12,
   "id": "881f2ca9",
   "metadata": {},
   "outputs": [
    {
     "data": {
      "text/plain": [
       "Text(0.5, 1.0, 'Actual vs Predicted')"
      ]
     },
     "execution_count": 12,
     "metadata": {},
     "output_type": "execute_result"
    },
    {
     "data": {
      "image/png": "[encoded data removed]",
      "text/plain": [
       "<Figure size 1080x720 with 1 Axes>"
      ]
     },
     "metadata": {
      "needs_background": "light"
     },
     "output_type": "display_data"
    }
   ],
   "source": [
    "import matplotlib.pyplot as plt\n",
    "plt.figure(figsize=(15,10))\n",
    "plt.scatter(y_test,y_pred, label=\"Actual test data\")\n",
    "plt.xlabel('Actual')\n",
    "plt.ylabel('Predicted')\n",
    "plt.title('Actual vs Predicted')"
   ]
  },
  {
   "cell_type": "code",
   "execution_count": 13,
   "id": "3a31808a",
   "metadata": {},
   "outputs": [
    {
     "data": {
      "text/plain": [
       "Text(0.5, 1.0, 'Actual vs Predicted')"
      ]
     },
     "execution_count": 13,
     "metadata": {},
     "output_type": "execute_result"
    },
    {
     "data": {
      "image/png": "[encoded data removed]",
      "text/plain": [
       "<Figure size 1080x720 with 1 Axes>"
      ]
     },
     "metadata": {
      "needs_background": "light"
     },
     "output_type": "display_data"
    }
   ],
   "source": [
    "plt.figure(figsize=(15,10))\n",
    "plt.scatter(y_test,y_pred_2, label=\"Actual test data\")\n",
    "plt.xlabel('Actual')\n",
    "plt.ylabel('Predicted')\n",
    "plt.title('Actual vs Predicted')"
   ]
  },
  {
   "cell_type": "markdown",
   "id": "bdc95705",
   "metadata": {},
   "source": [
    "# predicted values"
   ]
  },
  {
   "cell_type": "code",
   "execution_count": 14,
   "id": "60f92aed",
   "metadata": {},
   "outputs": [
    {
     "data": {
      "text/html": [
       "<div>\n",
       "<style scoped>\n",
       "    .dataframe tbody tr th:only-of-type {\n",
       "        vertical-align: middle;\n",
       "    }\n",
       "\n",
       "    .dataframe tbody tr th {\n",
       "        vertical-align: top;\n",
       "    }\n",
       "\n",
       "    .dataframe thead th {\n",
       "        text-align: right;\n",
       "    }\n",
       "</style>\n",
       "<table border=\"1\" class=\"dataframe\">\n",
       "  <thead>\n",
       "    <tr style=\"text-align: right;\">\n",
       "      <th></th>\n",
       "      <th>Actual Value</th>\n",
       "      <th>predicted value</th>\n",
       "      <th>Difference</th>\n",
       "    </tr>\n",
       "  </thead>\n",
       "  <tbody>\n",
       "    <tr>\n",
       "      <th>0</th>\n",
       "      <td>94</td>\n",
       "      <td>110.574126</td>\n",
       "      <td>-16.574126</td>\n",
       "    </tr>\n",
       "    <tr>\n",
       "      <th>1</th>\n",
       "      <td>0</td>\n",
       "      <td>0.678293</td>\n",
       "      <td>-0.678293</td>\n",
       "    </tr>\n",
       "    <tr>\n",
       "      <th>2</th>\n",
       "      <td>224</td>\n",
       "      <td>225.253363</td>\n",
       "      <td>-1.253363</td>\n",
       "    </tr>\n",
       "    <tr>\n",
       "      <th>3</th>\n",
       "      <td>98</td>\n",
       "      <td>118.139431</td>\n",
       "      <td>-20.139431</td>\n",
       "    </tr>\n",
       "    <tr>\n",
       "      <th>4</th>\n",
       "      <td>150</td>\n",
       "      <td>141.395486</td>\n",
       "      <td>8.604514</td>\n",
       "    </tr>\n",
       "    <tr>\n",
       "      <th>5</th>\n",
       "      <td>85</td>\n",
       "      <td>82.008536</td>\n",
       "      <td>2.991464</td>\n",
       "    </tr>\n",
       "    <tr>\n",
       "      <th>6</th>\n",
       "      <td>0</td>\n",
       "      <td>-0.873214</td>\n",
       "      <td>0.873214</td>\n",
       "    </tr>\n",
       "    <tr>\n",
       "      <th>7</th>\n",
       "      <td>222</td>\n",
       "      <td>218.838004</td>\n",
       "      <td>3.161996</td>\n",
       "    </tr>\n",
       "    <tr>\n",
       "      <th>8</th>\n",
       "      <td>60</td>\n",
       "      <td>60.160399</td>\n",
       "      <td>-0.160399</td>\n",
       "    </tr>\n",
       "    <tr>\n",
       "      <th>9</th>\n",
       "      <td>0</td>\n",
       "      <td>-1.842906</td>\n",
       "      <td>1.842906</td>\n",
       "    </tr>\n",
       "    <tr>\n",
       "      <th>10</th>\n",
       "      <td>0</td>\n",
       "      <td>-0.485337</td>\n",
       "      <td>0.485337</td>\n",
       "    </tr>\n",
       "    <tr>\n",
       "      <th>11</th>\n",
       "      <td>171</td>\n",
       "      <td>173.403533</td>\n",
       "      <td>-2.403533</td>\n",
       "    </tr>\n",
       "    <tr>\n",
       "      <th>12</th>\n",
       "      <td>199</td>\n",
       "      <td>205.303425</td>\n",
       "      <td>-6.303425</td>\n",
       "    </tr>\n",
       "    <tr>\n",
       "      <th>13</th>\n",
       "      <td>104</td>\n",
       "      <td>135.008312</td>\n",
       "      <td>-31.008312</td>\n",
       "    </tr>\n",
       "    <tr>\n",
       "      <th>14</th>\n",
       "      <td>0</td>\n",
       "      <td>-0.291399</td>\n",
       "      <td>0.291399</td>\n",
       "    </tr>\n",
       "    <tr>\n",
       "      <th>15</th>\n",
       "      <td>59</td>\n",
       "      <td>67.853770</td>\n",
       "      <td>-8.853770</td>\n",
       "    </tr>\n",
       "    <tr>\n",
       "      <th>16</th>\n",
       "      <td>145</td>\n",
       "      <td>121.157346</td>\n",
       "      <td>23.842654</td>\n",
       "    </tr>\n",
       "    <tr>\n",
       "      <th>17</th>\n",
       "      <td>0</td>\n",
       "      <td>-1.648967</td>\n",
       "      <td>1.648967</td>\n",
       "    </tr>\n",
       "    <tr>\n",
       "      <th>18</th>\n",
       "      <td>0</td>\n",
       "      <td>-1.455029</td>\n",
       "      <td>1.455029</td>\n",
       "    </tr>\n",
       "    <tr>\n",
       "      <th>19</th>\n",
       "      <td>0</td>\n",
       "      <td>1.260108</td>\n",
       "      <td>-1.260108</td>\n",
       "    </tr>\n",
       "  </tbody>\n",
       "</table>\n",
       "</div>"
      ],
      "text/plain": [
       "    Actual Value  predicted value  Difference\n",
       "0             94       110.574126  -16.574126\n",
       "1              0         0.678293   -0.678293\n",
       "2            224       225.253363   -1.253363\n",
       "3             98       118.139431  -20.139431\n",
       "4            150       141.395486    8.604514\n",
       "5             85        82.008536    2.991464\n",
       "6              0        -0.873214    0.873214\n",
       "7            222       218.838004    3.161996\n",
       "8             60        60.160399   -0.160399\n",
       "9              0        -1.842906    1.842906\n",
       "10             0        -0.485337    0.485337\n",
       "11           171       173.403533   -2.403533\n",
       "12           199       205.303425   -6.303425\n",
       "13           104       135.008312  -31.008312\n",
       "14             0        -0.291399    0.291399\n",
       "15            59        67.853770   -8.853770\n",
       "16           145       121.157346   23.842654\n",
       "17             0        -1.648967    1.648967\n",
       "18             0        -1.455029    1.455029\n",
       "19             0         1.260108   -1.260108"
      ]
     },
     "execution_count": 14,
     "metadata": {},
     "output_type": "execute_result"
    }
   ],
   "source": [
    "pred_y_df = pd.DataFrame({'Actual Value' : y_test, 'predicted value' : y_pred, \"Difference\" : y_test-y_pred})\n",
    "pred_y_df[0:20]"
   ]
  },
  {
   "cell_type": "code",
   "execution_count": 16,
   "id": "183a86ec",
   "metadata": {},
   "outputs": [
    {
     "data": {
      "text/html": [
       "<div>\n",
       "<style scoped>\n",
       "    .dataframe tbody tr th:only-of-type {\n",
       "        vertical-align: middle;\n",
       "    }\n",
       "\n",
       "    .dataframe tbody tr th {\n",
       "        vertical-align: top;\n",
       "    }\n",
       "\n",
       "    .dataframe thead th {\n",
       "        text-align: right;\n",
       "    }\n",
       "</style>\n",
       "<table border=\"1\" class=\"dataframe\">\n",
       "  <thead>\n",
       "    <tr style=\"text-align: right;\">\n",
       "      <th></th>\n",
       "      <th>Actual Value</th>\n",
       "      <th>predicted value</th>\n",
       "      <th>Difference</th>\n",
       "    </tr>\n",
       "  </thead>\n",
       "  <tbody>\n",
       "    <tr>\n",
       "      <th>0</th>\n",
       "      <td>94</td>\n",
       "      <td>110.033333</td>\n",
       "      <td>-16.033333</td>\n",
       "    </tr>\n",
       "    <tr>\n",
       "      <th>1</th>\n",
       "      <td>0</td>\n",
       "      <td>2.488889</td>\n",
       "      <td>-2.488889</td>\n",
       "    </tr>\n",
       "    <tr>\n",
       "      <th>2</th>\n",
       "      <td>224</td>\n",
       "      <td>258.666667</td>\n",
       "      <td>-34.666667</td>\n",
       "    </tr>\n",
       "    <tr>\n",
       "      <th>3</th>\n",
       "      <td>98</td>\n",
       "      <td>110.033333</td>\n",
       "      <td>-12.033333</td>\n",
       "    </tr>\n",
       "    <tr>\n",
       "      <th>4</th>\n",
       "      <td>150</td>\n",
       "      <td>157.897959</td>\n",
       "      <td>-7.897959</td>\n",
       "    </tr>\n",
       "    <tr>\n",
       "      <th>5</th>\n",
       "      <td>85</td>\n",
       "      <td>69.326531</td>\n",
       "      <td>15.673469</td>\n",
       "    </tr>\n",
       "    <tr>\n",
       "      <th>6</th>\n",
       "      <td>0</td>\n",
       "      <td>7.700000</td>\n",
       "      <td>-7.700000</td>\n",
       "    </tr>\n",
       "    <tr>\n",
       "      <th>7</th>\n",
       "      <td>222</td>\n",
       "      <td>258.666667</td>\n",
       "      <td>-36.666667</td>\n",
       "    </tr>\n",
       "    <tr>\n",
       "      <th>8</th>\n",
       "      <td>60</td>\n",
       "      <td>69.326531</td>\n",
       "      <td>-9.326531</td>\n",
       "    </tr>\n",
       "    <tr>\n",
       "      <th>9</th>\n",
       "      <td>0</td>\n",
       "      <td>3.812500</td>\n",
       "      <td>-3.812500</td>\n",
       "    </tr>\n",
       "    <tr>\n",
       "      <th>10</th>\n",
       "      <td>0</td>\n",
       "      <td>7.700000</td>\n",
       "      <td>-7.700000</td>\n",
       "    </tr>\n",
       "    <tr>\n",
       "      <th>11</th>\n",
       "      <td>171</td>\n",
       "      <td>157.897959</td>\n",
       "      <td>13.102041</td>\n",
       "    </tr>\n",
       "    <tr>\n",
       "      <th>12</th>\n",
       "      <td>199</td>\n",
       "      <td>258.666667</td>\n",
       "      <td>-59.666667</td>\n",
       "    </tr>\n",
       "    <tr>\n",
       "      <th>13</th>\n",
       "      <td>104</td>\n",
       "      <td>157.897959</td>\n",
       "      <td>-53.897959</td>\n",
       "    </tr>\n",
       "    <tr>\n",
       "      <th>14</th>\n",
       "      <td>0</td>\n",
       "      <td>7.700000</td>\n",
       "      <td>-7.700000</td>\n",
       "    </tr>\n",
       "    <tr>\n",
       "      <th>15</th>\n",
       "      <td>59</td>\n",
       "      <td>69.326531</td>\n",
       "      <td>-10.326531</td>\n",
       "    </tr>\n",
       "    <tr>\n",
       "      <th>16</th>\n",
       "      <td>145</td>\n",
       "      <td>110.033333</td>\n",
       "      <td>34.966667</td>\n",
       "    </tr>\n",
       "    <tr>\n",
       "      <th>17</th>\n",
       "      <td>0</td>\n",
       "      <td>3.812500</td>\n",
       "      <td>-3.812500</td>\n",
       "    </tr>\n",
       "    <tr>\n",
       "      <th>18</th>\n",
       "      <td>0</td>\n",
       "      <td>3.812500</td>\n",
       "      <td>-3.812500</td>\n",
       "    </tr>\n",
       "    <tr>\n",
       "      <th>19</th>\n",
       "      <td>0</td>\n",
       "      <td>2.488889</td>\n",
       "      <td>-2.488889</td>\n",
       "    </tr>\n",
       "  </tbody>\n",
       "</table>\n",
       "</div>"
      ],
      "text/plain": [
       "    Actual Value  predicted value  Difference\n",
       "0             94       110.033333  -16.033333\n",
       "1              0         2.488889   -2.488889\n",
       "2            224       258.666667  -34.666667\n",
       "3             98       110.033333  -12.033333\n",
       "4            150       157.897959   -7.897959\n",
       "5             85        69.326531   15.673469\n",
       "6              0         7.700000   -7.700000\n",
       "7            222       258.666667  -36.666667\n",
       "8             60        69.326531   -9.326531\n",
       "9              0         3.812500   -3.812500\n",
       "10             0         7.700000   -7.700000\n",
       "11           171       157.897959   13.102041\n",
       "12           199       258.666667  -59.666667\n",
       "13           104       157.897959  -53.897959\n",
       "14             0         7.700000   -7.700000\n",
       "15            59        69.326531  -10.326531\n",
       "16           145       110.033333   34.966667\n",
       "17             0         3.812500   -3.812500\n",
       "18             0         3.812500   -3.812500\n",
       "19             0         2.488889   -2.488889"
      ]
     },
     "execution_count": 16,
     "metadata": {},
     "output_type": "execute_result"
    }
   ],
   "source": [
    "pred_y_df_2 = pd.DataFrame({'Actual Value' : y_test, 'predicted value' : y_pred_2, \"Difference\" : y_test-y_pred_2})\n",
    "pred_y_df_2[0:20]"
   ]
  }
 ],
 "metadata": {
  "kernelspec": {
   "display_name": "Python 3 (ipykernel)",
   "language": "python",
   "name": "python3"
  },
  "language_info": {
   "codemirror_mode": {
    "name": "ipython",
    "version": 3
   },
   "file_extension": ".py",
   "mimetype": "text/x-python",
   "name": "python",
   "nbconvert_exporter": "python",
   "pygments_lexer": "ipython3",
   "version": "3.8.8"
  }
 },
 "nbformat": 4,
 "nbformat_minor": 5
}
